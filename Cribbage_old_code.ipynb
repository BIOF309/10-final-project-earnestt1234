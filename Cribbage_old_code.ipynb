{
 "cells": [
  {
   "cell_type": "code",
   "execution_count": null,
   "metadata": {
    "collapsed": true
   },
   "outputs": [],
   "source": [
    "#Here is some old code which I was originally using to write the scoring funciton - before i came up with better/\n",
    "#cooler solutions.  This won't produce anything in itself, but it shows some of my thought process.\n",
    "        \n",
    "import re\n",
    "\n",
    "for i in range(len(deal)):\n",
    "      temp.append((re.findall('\\d+', deal[i])))\n",
    "for i in range(len(temp)):\n",
    "    hand_full.append(int(temp[i][0]))\n",
    "                 \n",
    "dubs = list(collections.Counter(s_hand).values())\n",
    "for i in range(len(dubs)):\n",
    "    if dubs[i] == 2:\n",
    "        score_pairs += 2\n",
    "    if dubs[i] == 3:\n",
    "        score_pairs += 6\n",
    "    if dubs[i] == 4:\n",
    "        score_pairs += 12\n",
    "        \n",
    "        \n",
    "#the above works for pairs,  but I think checking individual card duos with itertools is cooler and probably faster\n",
    "        \n",
    "threeruns = list(itertools.combinations(s_hand, 3))\n",
    "for i in range(len(threeruns)):\n",
    "    if threeruns[i][2] == threeruns[i][1] + 1 and threeruns[i][1] == threeruns[i][0] + 1:\n",
    "        score_runs += 3\n",
    "\n",
    "#would need to repeat the above code for \"fouruns\", but would also need to not score threeruns if there were longer runs present\n",
    "\n",
    "for i in range(len(hand_possible_4)):\n",
    "    ls = list(hand_possible_4[i])\n",
    "    print(crib_score(ls[0],ls[1],ls[2],ls[3],ls[4]))\n",
    "        \n",
    "print(\"Fifteens:\", score_fifteens)\n",
    "print(\"Runs:\",score_runs)\n",
    "print(\"Pairs:\",score_pairs)\n",
    "print(\"Flush:\",score_flush)\n",
    "print(\"His Knob:\",score_knob)\n",
    "\n",
    "total_score = score_fifteens + score_runs + score_pairs + score_flush + score_knob\n",
    "\n",
    "print(\"\\nTotal: \" + str(total_score))"
   ]
  }
 ],
 "metadata": {
  "kernelspec": {
   "display_name": "Python 3",
   "language": "python",
   "name": "python3"
  },
  "language_info": {
   "codemirror_mode": {
    "name": "ipython",
    "version": 3
   },
   "file_extension": ".py",
   "mimetype": "text/x-python",
   "name": "python",
   "nbconvert_exporter": "python",
   "pygments_lexer": "ipython3",
   "version": "3.6.1"
  }
 },
 "nbformat": 4,
 "nbformat_minor": 2
}
